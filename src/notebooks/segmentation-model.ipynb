{
 "cells": [
  {
   "cell_type": "code",
   "execution_count": 8,
   "metadata": {},
   "outputs": [],
   "source": [
    "import os\n",
    "import sys\n",
    "import json\n",
    "\n",
    "import pydicom\n",
    "import torch\n",
    "import numpy as np\n",
    "import matplotlib.pyplot as plt\n",
    "\n",
    "from tcia_utils import nbia\n",
    "from rt_utils import RTStructBuilder\n",
    "from monai.bundle import ConfigParser, download\n",
    "from monai.transforms import (\n",
    "    LoadImage,\n",
    "    LoadImaged,\n",
    "    Orientation,\n",
    "    Orientationd,\n",
    "    EnsureChannelFirst,\n",
    "    EnsureChannelFirstd,\n",
    "    Compose,\n",
    ")"
   ]
  },
  {
   "cell_type": "code",
   "execution_count": 14,
   "metadata": {},
   "outputs": [
    {
     "name": "stdout",
     "output_type": "stream",
     "text": [
      "Output directory does not exist, new output directory created.\n",
      "d:\\projects\\ct-segmentation\\output\n"
     ]
    }
   ],
   "source": [
    "project_environment_directory = os.path.abspath(sys.prefix)\n",
    "project_directory = os.path.dirname(project_environment_directory)\n",
    "\n",
    "data_directory = os.path.join(project_directory, \"data\")\n",
    "model_directory = os.path.join(project_directory, \"model\")\n",
    "output_directory = os.path.join(project_directory, \"output\")\n",
    "\n",
    "if not os.path.exists(data_directory):\n",
    "    print(\"Data directory does not exist, new data directory created.\")\n",
    "    os.mkdir(data_directory)\n",
    "\n",
    "    print(data_directory)\n",
    "\n",
    "if not os.path.exists(model_directory):\n",
    "    print(\"Model directory does not exist, new model directory created.\")\n",
    "    os.mkdir(model_directory)\n",
    "\n",
    "    print(model_directory)\n",
    "\n",
    "if not os.path.exists(output_directory):\n",
    "    print(\"Output directory does not exist, new output directory created.\")\n",
    "    os.mkdir(output_directory)\n",
    "\n",
    "    print(output_directory)"
   ]
  }
 ],
 "metadata": {
  "kernelspec": {
   "display_name": "ct-segmentation-env",
   "language": "python",
   "name": "python3"
  },
  "language_info": {
   "codemirror_mode": {
    "name": "ipython",
    "version": 3
   },
   "file_extension": ".py",
   "mimetype": "text/x-python",
   "name": "python",
   "nbconvert_exporter": "python",
   "pygments_lexer": "ipython3",
   "version": "3.11.4"
  }
 },
 "nbformat": 4,
 "nbformat_minor": 2
}
